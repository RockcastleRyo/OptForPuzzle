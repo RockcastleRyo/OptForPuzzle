{
 "cells": [
  {
   "cell_type": "markdown",
   "metadata": {
    "cell_style": "split"
   },
   "source": [
    "<div style='float: right'><img src='pic/eisbahn.png'/></div>\n",
    "## <div id='eisbahn' />アイスバーン"
   ]
  },
  {
   "cell_type": "code",
   "execution_count": 3,
   "metadata": {
    "cell_style": "split",
    "collapsed": true
   },
   "outputs": [],
   "source": [
    "%matplotlib inline\n",
    "import numpy as np, matplotlib.pyplot as plt\n",
    "from itertools import product\n",
    "from pulp import *\n",
    "from unionfind import unionfind\n",
    "from ortoolpy import addvar, addvars, addbinvar, addbinvars\n",
    "data = \"\"\"\\\n",
    " . . . . . \n",
    "R . .*.*L .\n",
    " . . . . . \n",
    ". . . . . .\n",
    " . . U . . \n",
    ".*. .*. . .\n",
    " . . . . . \n",
    ". . . . . .\n",
    " . . . . . \n",
    ". R*.*. . R\n",
    " . . . . . \"\"\".split('\\n')\n",
    "nw, nh = len(data[0])//2, len(data)//2"
   ]
  },
  {
   "cell_type": "markdown",
   "metadata": {},
   "source": [
    "### 問題\n",
    "* INから入りOUTにいく１本の線をひきます\n",
    "* 灰色のマスをアイスバーンとし、必ず通ります\n",
    "* アイスバーンで曲がってはいけません\n",
    "* アイスバーンのみ交差可です\n",
    "* 矢印は必ず通ること\n",
    "\n",
    "### 変数\n",
    "* vh：0:L, 1:R (1)\n",
    "* vv：0:U, 1:D (2)\n",
    "* vhs (3)\n",
    "* vvs (4)\n",
    "\n",
    "### 制約\n",
    "* vhsをvhで、vvsをvvで表現 (5)\n",
    "* 矢印は必ず通ること (6)\n",
    "* 各マスで入る数と出る数が同じこと (7)\n",
    "* アイスバーンなら横は同じ、縦も同じこと（曲がらない） (8)\n",
    "* アイスバーンなら線は2以上 (9)\n",
    "* アイスバーンでないなら線は2以下 (10)\n",
    "* 線は1つ (11)"
   ]
  },
  {
   "cell_type": "code",
   "execution_count": 8,
   "metadata": {
    "collapsed": false
   },
   "outputs": [
    {
     "name": "stdout",
     "output_type": "stream",
     "text": [
      "Wall time: 27 ms\n"
     ]
    }
   ],
   "source": [
    "m = LpProblem()\n",
    "vh = addbinvars(nh, nw+1, 2) # 0:L, 1:R (1)\n",
    "vv = addbinvars(nh+1, nw, 2) # 0:U, 1:D (2)\n",
    "vhs = addvars(nh, nw+1) # (3)\n",
    "vvs = addvars(nh+1, nw) # (4)\n",
    "for i, j in product(range(nh), range(nw+1)):\n",
    "    c = data[i*2+1][j*2]\n",
    "    m += lpDot([1,2], vh[i][j]) == vhs[i][j] # (5)\n",
    "    if c != '.' or j%nw == 0:\n",
    "        m += vhs[i][j] == (1 if c=='L' else 2 if c=='R' else 0) # (6)\n",
    "for i, j in product(range(nh+1), range(nw)):\n",
    "    c = data[i*2][j*2+1]\n",
    "    m += lpDot([1,2], vv[i][j]) == vvs[i][j] # (5)\n",
    "    if c != '.' or i%nh == 0:\n",
    "        m += vvs[i][j] == (1 if c=='U' else 2 if c=='D' else 0) # (6)\n",
    "for i, j in product(range(nh), range(nw)):\n",
    "    e1 = lpSum(vv[i+k][j][1-k] + vh[i][j+k][1-k] for k in range(2))\n",
    "    e2 = lpSum(vv[i+k][j][k]   + vh[i][j+k][k] for k in range(2))\n",
    "    m += e1 == e2 # (7)\n",
    "    if data[i*2+1][i*2+1] == '*':\n",
    "        m += vhs[i][j] == vhs[i][j+1] # (8)\n",
    "        m += vvs[i][j] == vvs[i+1][j] # (8)\n",
    "        m += e1 + e2 >= 2 # (9)\n",
    "    else:\n",
    "        m += e1 + e2 <= 2 # (10)\n",
    "while True:\n",
    "    %time m.solve()\n",
    "    rhs = np.vectorize(value)(vhs)\n",
    "    rvs = np.vectorize(value)(vvs)\n",
    "    if m.status != 1: break\n",
    "    break\n",
    "    b = [[all([value(vhs[i + k][j]) > 0.5 and value(vvs[i][j + k]) > 0.5 for k in r2]) for j in rh] for i in rw]\n",
    "    e = [[all([value(vhs[i + k][j]) < 0.5 and value(vvs[i][j + k]) < 0.5 for k in r2]) for j in rh] for i in rw]\n",
    "    u = unionfind(nh * nw)\n",
    "    p = -1\n",
    "    for i in rw:\n",
    "        for j in rh:\n",
    "            if not e[i][j]: p = i + j * nw\n",
    "            if b[i][j]:\n",
    "                u.unite(i - 1 + j * nw, i + 1 + j * nw)\n",
    "                u.unite(i + j * nw - nw, i + j * nw + nw)\n",
    "            else:\n",
    "                if i > 0 and value(vhs[i][j]) > 0.5 and not b[i - 1][j]:\n",
    "                    u.unite(i + j * nw, i - 1 + j * nw)\n",
    "                if j > 0 and value(vvs[i][j]) > 0.5 and not b[i][j - 1]:\n",
    "                    u.unite(i + j * nw, i + j * nw - nw)\n",
    "    if all([b[i][j] or e[i][j] or u.issame(p, i + j * nw) for i in rw for j in rh]): break\n",
    "    for gr in u.groups():\n",
    "        if len(gr) == 1: continue\n",
    "        s = []\n",
    "        for g in gr:\n",
    "            i, j = g % nw, g // nw\n",
    "            for k in r2:\n",
    "                for l in r2:\n",
    "                    if value(vh[i + k][j][l]) > 0.5: s.append(vh[i + k][j][l])\n",
    "                    if value(vv[i][j + k][l]) > 0.5: s.append(vv[i][j + k][l])\n",
    "        m += lpSum(s) <= len(s) - 2 # (11)\n",
    "for j in rh1:\n",
    "    for i in rw:\n",
    "        sys.stdout.write(' %c' % '.UD'[int(value(vvs[i][j]))])\n",
    "    sys.stdout.write('\\n')\n",
    "    if j == nh: break\n",
    "    for i in rw1:\n",
    "        sys.stdout.write('%c%c' % ('.LR'[int(value(vhs[i][j]))],\n",
    "            '\\n' if i == nw else ch[j * 2 + 1][i * 2 + 1]))"
   ]
  },
  {
   "cell_type": "code",
   "execution_count": 10,
   "metadata": {
    "collapsed": false
   },
   "outputs": [
    {
     "data": {
      "text/plain": [
       "array([[2, 0, 0, 0, 2, 0],\n",
       "       [0, 0, 2, 0, 0, 0],\n",
       "       [0, 0, 0, 0, 0, 0],\n",
       "       [0, 0, 2, 0, 2, 0],\n",
       "       [0, 2, 2, 2, 2, 2]])"
      ]
     },
     "execution_count": 10,
     "metadata": {},
     "output_type": "execute_result"
    }
   ],
   "source": [
    "(rhs>0)*2"
   ]
  },
  {
   "cell_type": "code",
   "execution_count": null,
   "metadata": {
    "collapsed": true
   },
   "outputs": [],
   "source": []
  }
 ],
 "metadata": {
  "anaconda-cloud": {},
  "kernelspec": {
   "display_name": "Python [default]",
   "language": "python",
   "name": "python3"
  },
  "language_info": {
   "codemirror_mode": {
    "name": "ipython",
    "version": 3
   },
   "file_extension": ".py",
   "mimetype": "text/x-python",
   "name": "python",
   "nbconvert_exporter": "python",
   "pygments_lexer": "ipython3",
   "version": "3.5.2"
  }
 },
 "nbformat": 4,
 "nbformat_minor": 1
}
