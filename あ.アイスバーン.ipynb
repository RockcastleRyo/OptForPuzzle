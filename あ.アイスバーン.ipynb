{
 "cells": [
  {
   "cell_type": "markdown",
   "metadata": {
    "cell_style": "split"
   },
   "source": [
    "<div style='float: right'><img src='pic/eisbahn.png'/></div>\n",
    "## <div id='eisbahn' />アイスバーン"
   ]
  },
  {
   "cell_type": "code",
   "execution_count": null,
   "metadata": {
    "cell_style": "split",
    "collapsed": true
   },
   "outputs": [],
   "source": []
  },
  {
   "cell_type": "markdown",
   "metadata": {},
   "source": [
    "### 問題\n",
    "* INから入りOUTにいく１本の線をひきます\n",
    "* 灰色のマスをアイスバーンとし、必ず通ります\n",
    "* アイスバーンで曲がってはいけません\n",
    "* アイスバーンのみ交差可です\n",
    "* 矢印は必ず通ること\n",
    "\n",
    "### 変数\n",
    "* vh：0:L, 1:R (1)\n",
    "* vv：0:U, 1:D (2)\n",
    "* vhs (3)\n",
    "* vvs (4)\n",
    "\n",
    "### 制約\n",
    "* vhsをvhで、vvsをvvで表現 (5)\n",
    "* 矢印は必ず通ること (6)\n",
    "* 各マスで入る数と出る数が同じこと (7)\n",
    "* アイスバーンなら横は同じ、縦も同じこと（曲がらない） (8)\n",
    "* アイスバーンなら線は2以上 (9)\n",
    "* アイスバーンでないなら線は2以下 (10)\n",
    "* 線は1つ (11)"
   ]
  },
  {
   "cell_type": "code",
   "execution_count": null,
   "metadata": {
    "collapsed": true
   },
   "outputs": [],
   "source": []
  }
 ],
 "metadata": {
  "anaconda-cloud": {},
  "kernelspec": {
   "display_name": "Python [default]",
   "language": "python",
   "name": "python3"
  },
  "language_info": {
   "codemirror_mode": {
    "name": "ipython",
    "version": 3
   },
   "file_extension": ".py",
   "mimetype": "text/x-python",
   "name": "python",
   "nbconvert_exporter": "python",
   "pygments_lexer": "ipython3",
   "version": "3.5.2"
  }
 },
 "nbformat": 4,
 "nbformat_minor": 1
}
